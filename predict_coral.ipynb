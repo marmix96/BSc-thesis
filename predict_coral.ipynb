{
  "nbformat": 4,
  "nbformat_minor": 0,
  "metadata": {
    "colab": {
      "name": "Untitled4.ipynb",
      "provenance": [],
      "collapsed_sections": []
    },
    "kernelspec": {
      "name": "python3",
      "display_name": "Python 3"
    },
    "accelerator": "GPU"
  },
  "cells": [
    {
      "cell_type": "code",
      "metadata": {
        "id": "ALCnHjFUc7oC"
      },
      "source": [
        "import tensorflow as tf\n",
        "\n",
        "MODEL_PATH = \"/content/drive/My Drive/leafnet_thesis/models/leafnet_v3.h5\"\n",
        "\n",
        "model = tf.keras.models.load_model(MODEL_PATH)\n",
        "\n",
        "converter = tf.lite.TFLiteConverter.from_keras_model(model)\n",
        "converter.optimizations = [tf.lite.Optimize.DEFAULT]\n",
        "tflite_model = converter.convert()\n",
        "\n",
        "with tf.io.gfile.GFile(\"/content/drive/My Drive/leafnet_thesis/models/leafnet_v3.tflite\", \"wb\") as stream:\n",
        "    stream.write(tflite_model)"
      ],
      "execution_count": null,
      "outputs": []
    },
    {
      "cell_type": "code",
      "metadata": {
        "id": "e_KwQg7WhrIp",
        "colab": {
          "base_uri": "https://localhost:8080/",
          "height": 246
        },
        "outputId": "e390a8a9-feef-413f-eb7c-49d0ab91369c"
      },
      "source": [
        "import os\n",
        "from time import time\n",
        "\n",
        "import numpy as np\n",
        "import pandas as pd\n",
        "import tensorflow as tf\n",
        "from PIL import Image\n",
        "\n",
        "DIR = \"/content/drive/My Drive/leafnet_thesis/leaf_valid_v3\"\n",
        "CLASSES = sorted(os.listdir(DIR))\n",
        "SIZE = (256, 256)\n",
        "\n",
        "interpreter = tf.lite.Interpreter(model_path=\"/content/drive/My Drive/leafnet_thesis/models/leafnet_v3.tflite\")\n",
        "interpreter.allocate_tensors()\n",
        "\n",
        "def predict_image(image_file):\n",
        "    image = Image.open(image_file).convert(\"RGB\").resize(SIZE, Image.ANTIALIAS)\n",
        "    image = np.asarray(image)\n",
        "    image = image.astype('float32')\n",
        "    image /= 255.0\n",
        "    tensor_index = interpreter.get_input_details()[0]['index']\n",
        "    start = time()\n",
        "    interpreter.set_tensor(tensor_index, [image])\n",
        "    interpreter.invoke()\n",
        "    duration = time() - start\n",
        "    output_details = interpreter.get_output_details()[0]\n",
        "    output = np.squeeze(interpreter.get_tensor(output_details['index']))\n",
        "    if output_details['dtype'] == np.uint8:\n",
        "        scale, zero_point = output_details['quantization']\n",
        "        output = scale * (output - zero_point)\n",
        "    return np.argmax(output), duration\n",
        "\n",
        "def predict_class(class_directory, classes):\n",
        "    classname = os.path.basename(class_directory)\n",
        "    images = []\n",
        "    for image in os.listdir(class_directory):\n",
        "        images.append({\"x\": os.path.join(class_directory, image), \"y\": classname})\n",
        "    correct = 0\n",
        "    total_duration = 0\n",
        "    for image in images:\n",
        "        result, duration = predict_image(image[\"x\"])\n",
        "        if classes[result] == classname:\n",
        "            correct += 1\n",
        "        total_duration += duration\n",
        "    score = correct / len(images)\n",
        "    print(f\"Score for {classname}: {score * 100:.2f} %.\")\n",
        "    print(f\"Done in {total_duration:.3f} seconds for {len(images)} images.\")\n",
        "    return {\"accuracy\": score, \"duration\": total_duration}\n",
        "\n",
        "def predict_classes(directory):\n",
        "    results = {\"class\": [], \"accuracy\": [], \"duration\": []}\n",
        "    classes = sorted(os.listdir(directory))\n",
        "    total = 0\n",
        "    for class_directory in classes:\n",
        "        result = predict_class(os.path.join(directory, class_directory), classes)\n",
        "        results[\"class\"].append(class_directory)\n",
        "        results[\"accuracy\"].append(result[\"accuracy\"])\n",
        "        results[\"duration\"].append(result[\"duration\"])\n",
        "        total += len(os.listdir(os.path.join(directory, class_directory)))\n",
        "    print(pd.DataFrame(results))\n",
        "\n",
        "predict_classes(\"/content/drive/My Drive/leafnet_thesis/leaf_valid_v3\")\n",
        "# predict_image(\"/content/drive/My Drive/leafnet_thesis/leaf_valid_v3/Apple___Apple_scab/1001.jpg\")"
      ],
      "execution_count": null,
      "outputs": [
        {
          "output_type": "error",
          "ename": "NameError",
          "evalue": "ignored",
          "traceback": [
            "\u001b[0;31m---------------------------------------------------------------------------\u001b[0m",
            "\u001b[0;31mNameError\u001b[0m                                 Traceback (most recent call last)",
            "\u001b[0;32m<ipython-input-1-7eb83cb8f3fd>\u001b[0m in \u001b[0;36m<module>\u001b[0;34m()\u001b[0m\n\u001b[1;32m     11\u001b[0m \u001b[0mSIZE\u001b[0m \u001b[0;34m=\u001b[0m \u001b[0;34m(\u001b[0m\u001b[0;36m256\u001b[0m\u001b[0;34m,\u001b[0m \u001b[0;36m256\u001b[0m\u001b[0;34m)\u001b[0m\u001b[0;34m\u001b[0m\u001b[0;34m\u001b[0m\u001b[0m\n\u001b[1;32m     12\u001b[0m \u001b[0;34m\u001b[0m\u001b[0m\n\u001b[0;32m---> 13\u001b[0;31m \u001b[0minterpreter\u001b[0m \u001b[0;34m=\u001b[0m \u001b[0mtf\u001b[0m\u001b[0;34m.\u001b[0m\u001b[0mlite\u001b[0m\u001b[0;34m.\u001b[0m\u001b[0mInterpreter\u001b[0m\u001b[0;34m(\u001b[0m\u001b[0mmodel_path\u001b[0m\u001b[0;34m=\u001b[0m\u001b[0;34m\"/content/drive/My Drive/leafnet_thesis/models/leafnet_v3.tflite\"\u001b[0m\u001b[0;34m)\u001b[0m\u001b[0;34m\u001b[0m\u001b[0;34m\u001b[0m\u001b[0m\n\u001b[0m\u001b[1;32m     14\u001b[0m \u001b[0minterpreter\u001b[0m\u001b[0;34m.\u001b[0m\u001b[0mallocate_tensors\u001b[0m\u001b[0;34m(\u001b[0m\u001b[0;34m)\u001b[0m\u001b[0;34m\u001b[0m\u001b[0;34m\u001b[0m\u001b[0m\n\u001b[1;32m     15\u001b[0m \u001b[0;34m\u001b[0m\u001b[0m\n",
            "\u001b[0;31mNameError\u001b[0m: name 'tf' is not defined"
          ]
        }
      ]
    }
  ]
}